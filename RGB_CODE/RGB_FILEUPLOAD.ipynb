{
 "cells": [
  {
   "cell_type": "code",
   "execution_count": 4,
   "id": "3d3f8b99",
   "metadata": {},
   "outputs": [],
   "source": [
    "import numpy as np\n",
    "import cv2 as cv"
   ]
  },
  {
   "cell_type": "code",
   "execution_count": 5,
   "id": "f8c44484",
   "metadata": {},
   "outputs": [],
   "source": [
    "#import video\n",
    "video = cv.VideoCapture('RGB/swipe_left/a1_s4_t1_color.avi')"
   ]
  },
  {
   "cell_type": "code",
   "execution_count": 3,
   "id": "17a93edb",
   "metadata": {},
   "outputs": [],
   "source": [
    "# this code essentially changes file's codec\n",
    "#video.set(cv.CAP_PROP_FOURCC, cv.VideoWriter_fourcc(*'MJPG'))"
   ]
  },
  {
   "cell_type": "code",
   "execution_count": 3,
   "id": "c5d491b6",
   "metadata": {},
   "outputs": [],
   "source": [
    "# GET FILE PROPERTIES"
   ]
  },
  {
   "cell_type": "code",
   "execution_count": 6,
   "id": "dcef818f",
   "metadata": {
    "scrolled": true
   },
   "outputs": [
    {
     "name": "stdout",
     "output_type": "stream",
     "text": [
      "FRAME WIDTH: '640.0'\n",
      "FRAME HEIGHT : '480.0'\n",
      "FRAME COUNT  : '42.0'\n",
      "FPS : '15.0'\n",
      "CONVERT RGB : '1.0'\n"
     ]
    }
   ],
   "source": [
    "# get width (pixels)\n",
    "print(\"FRAME WIDTH: '{}'\".format(video.get(cv.CAP_PROP_FRAME_WIDTH)))\n",
    "# get height (pixels)\n",
    "print(\"FRAME HEIGHT : '{}'\".format(video.get(cv.CAP_PROP_FRAME_HEIGHT)))\n",
    "# get frame count\n",
    "print(\"FRAME COUNT  : '{}'\".format(video.get(cv.CAP_PROP_FRAME_COUNT)))\n",
    "# get framerate (fps)\n",
    "print(\"FPS : '{}'\".format(video.get(cv.CAP_PROP_FPS)))\n",
    "# check if video must be converted from BGR to RGB\n",
    "print(\"CONVERT RGB : '{}'\".format(video.get(cv.CAP_PROP_CONVERT_RGB)))"
   ]
  },
  {
   "cell_type": "code",
   "execution_count": 7,
   "id": "81dd1b3c",
   "metadata": {},
   "outputs": [
    {
     "name": "stdout",
     "output_type": "stream",
     "text": [
      "broken at 43\n"
     ]
    }
   ],
   "source": [
    "# open and run video\n",
    "\n",
    "#double check to see if filepath opens video\n",
    "if not video.isOpened():\n",
    "    print(\"Error opening video file\")\n",
    "    exit()\n",
    "    \n",
    "#loop through frames while the video is open\n",
    "count=0\n",
    "while video.isOpened():\n",
    "    count+=1\n",
    "    ret, frame = video.read()\n",
    "    if not ret:\n",
    "        # validation line - check to see if your video runs all the way through \n",
    "        # is (count - 1) == frame_count ?\n",
    "        print(\"broken at %d\" % count)\n",
    "        break\n",
    "    cv.imshow('Video Frame', frame)\n",
    "    #make waitKey(66) because 15 fps is roughly 66.67 ms in between each frame\n",
    "    if cv.waitKey(66) & 0xFF == ord('q'):\n",
    "        break"
   ]
  },
  {
   "cell_type": "code",
   "execution_count": 8,
   "id": "78a8b973",
   "metadata": {},
   "outputs": [],
   "source": [
    "#release videos\n",
    "video.release()\n",
    "#destroy all windows\n",
    "cv.destroyAllWindows()"
   ]
  },
  {
   "cell_type": "code",
   "execution_count": null,
   "id": "2abfd731",
   "metadata": {},
   "outputs": [],
   "source": []
  }
 ],
 "metadata": {
  "kernelspec": {
   "display_name": "Python 3 (ipykernel)",
   "language": "python",
   "name": "python3"
  },
  "language_info": {
   "codemirror_mode": {
    "name": "ipython",
    "version": 3
   },
   "file_extension": ".py",
   "mimetype": "text/x-python",
   "name": "python",
   "nbconvert_exporter": "python",
   "pygments_lexer": "ipython3",
   "version": "3.8.5"
  }
 },
 "nbformat": 4,
 "nbformat_minor": 5
}
